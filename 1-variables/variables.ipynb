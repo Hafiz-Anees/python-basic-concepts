{
 "cells": [
  {
   "cell_type": "markdown",
   "metadata": {},
   "source": [
    "# variables\n",
    "\n",
    "- in c++ and java memory address allocated accroding to varaible name.\n",
    "- But in python , memory address is allocated according to the value assigned\n",
    "  to the variable\n",
    "- for example:\n",
    "    a=10\n",
    "    b=10\n",
    "    both have same memory addresses\n",
    "- to see address of value we use id() funciton"
   ]
  },
  {
   "cell_type": "markdown",
   "metadata": {},
   "source": []
  }
 ],
 "metadata": {
  "language_info": {
   "name": "python"
  }
 },
 "nbformat": 4,
 "nbformat_minor": 2
}
