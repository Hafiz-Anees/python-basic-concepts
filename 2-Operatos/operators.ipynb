{
 "cells": [
  {
   "cell_type": "markdown",
   "metadata": {},
   "source": [
    "# 1- membership Operators (in and not in)\n",
    "- name = \"anees ur rehman\"\n",
    "- print('n' in name) true\n",
    "- print('N' in name) false \n",
    "- print('a' not in name) false"
   ]
  },
  {
   "cell_type": "markdown",
   "metadata": {},
   "source": [
    "# uses\n",
    "# in string , dictionaries , tuples"
   ]
  },
  {
   "cell_type": "markdown",
   "metadata": {},
   "source": [
    "# 2- IDENTITY OPERATOR (IS AND IS NOT)\n",
    "\n",
    "- (IS) TURE - if both variables are the same objects.\n",
    "\n",
    "- (IS NOT) - TRUE - if both variables are NOT the same objects."
   ]
  },
  {
   "cell_type": "markdown",
   "metadata": {},
   "source": [
    "# 3 -Bit wise operators\n",
    "operators :: and (&) , Or (|) , XOR (^)\n",
    "x=10\n",
    "y=8\n",
    "\n",
    "- print(\"x & y :\", x & y )    # gives the bitwise AND of x\n",
    "- print(\"x | y :\", x | y )    # gives the bitwise OR of x\n",
    "- print(\"x ^ y :\", x ^ y )    # gives the bitwise XOR of x\n",
    "\n",
    "\n",
    "# Swapping using bitwise XOR\n",
    "- a = a ^ b\n",
    "- b = a ^ b\n",
    "- a = a ^ b\n",
    "\n",
    "- print(\"After swapping:\")\n",
    "- print(\"a =\", a)\n",
    "- print(\"b =\", b)\n",
    "\n",
    "# Not (~)\n",
    "\n",
    "- a =  10\n",
    "- print(~a) # -11\n",
    "\n",
    "- explanation:\n",
    "    10 => 1010 \n",
    "    ~10 = -(1010+1)\n",
    "        = -(1011)\n",
    "        = -(11)\n",
    "        = -11\n",
    "        \n",
    "# left shift(<<) = > (add zero's at the end)\n",
    "\n",
    "# right shift(>>) = > (add zero's at the start)\n"
   ]
  },
  {
   "cell_type": "markdown",
   "metadata": {},
   "source": []
  }
 ],
 "metadata": {
  "language_info": {
   "name": "python"
  }
 },
 "nbformat": 4,
 "nbformat_minor": 2
}
