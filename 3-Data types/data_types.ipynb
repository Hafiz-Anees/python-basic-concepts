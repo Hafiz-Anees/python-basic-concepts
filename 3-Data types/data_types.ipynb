{
 "cells": [
  {
   "cell_type": "markdown",
   "metadata": {},
   "source": [
    "# Data Types\n",
    "\n",
    "# 1-Numeric type\n",
    " - Integers\n",
    " - Float\n",
    " - Complex numbers\n",
    "\n",
    "# 2-Sequence type\n",
    " - String \n",
    " - list (mutable)\n",
    " - tuple \n",
    " - dictionary (mutable)\n",
    " - set"
   ]
  },
  {
   "cell_type": "code",
   "execution_count": 1,
   "metadata": {},
   "outputs": [
    {
     "name": "stdout",
     "output_type": "stream",
     "text": [
      "5 <class 'int'>\n"
     ]
    }
   ],
   "source": [
    "# integer value\n",
    "a=5\n",
    "print(a,type(a))"
   ]
  },
  {
   "cell_type": "code",
   "execution_count": 2,
   "metadata": {},
   "outputs": [
    {
     "name": "stdout",
     "output_type": "stream",
     "text": [
      "5.5 <class 'float'>\n"
     ]
    }
   ],
   "source": [
    "#float value\n",
    "b=5.5\n",
    "print(b,type(b))"
   ]
  },
  {
   "cell_type": "code",
   "execution_count": 3,
   "metadata": {},
   "outputs": [
    {
     "name": "stdout",
     "output_type": "stream",
     "text": [
      "(2+5j) <class 'complex'>\n"
     ]
    }
   ],
   "source": [
    "# complex value\n",
    "c = 2+5j\n",
    "print(c,type(c))"
   ]
  },
  {
   "cell_type": "code",
   "execution_count": 6,
   "metadata": {},
   "outputs": [
    {
     "name": "stdout",
     "output_type": "stream",
     "text": [
      "my name is anees.\n",
      "i am computer science student.\n",
      "my father name is arif.\n",
      " <class 'str'>\n",
      "73\n"
     ]
    }
   ],
   "source": [
    "# string (single quote, double quote , or can be in triple quotes)\n",
    "name = \"\"\"my name is anees.\n",
    "i am computer science student.\n",
    "my father name is arif.\n",
    "\"\"\"\n",
    "print(name,type(name))\n",
    "print(len(name))"
   ]
  },
  {
   "cell_type": "code",
   "execution_count": 8,
   "metadata": {},
   "outputs": [
    {
     "name": "stdout",
     "output_type": "stream",
     "text": [
      "[1, 2, 3, 'a', 'b'] <class 'list'>\n",
      "[1, 2, 4.5, 'a', 'b'] <class 'list'>\n"
     ]
    }
   ],
   "source": [
    "# list  (order)\n",
    "\n",
    "numbers = [1, 2, 3, 'a', 'b']\n",
    "print(numbers,type(numbers))\n",
    "numbers[2] = 4.5  # this is why list is mutable\n",
    "print(numbers,type(numbers))\n"
   ]
  },
  {
   "cell_type": "code",
   "execution_count": 12,
   "metadata": {},
   "outputs": [
    {
     "name": "stdout",
     "output_type": "stream",
     "text": [
      "(1, 3, 4, 5, 'anees') <class 'tuple'>\n",
      "10 <class 'int'>\n"
     ]
    }
   ],
   "source": [
    "# tuple (order)\n",
    "mytup = (1,3,4,5,'anees')\n",
    "print(mytup,type(mytup))\n",
    "\n",
    "t=(10)\n",
    "print(t,type(t))"
   ]
  },
  {
   "cell_type": "code",
   "execution_count": 14,
   "metadata": {},
   "outputs": [
    {
     "name": "stdout",
     "output_type": "stream",
     "text": [
      "{'name': 'anees', 'age': 22, 'country': 'pakistan'} <class 'dict'>\n",
      "anees\n"
     ]
    }
   ],
   "source": [
    "# dictionary (unorder , key:value)\n",
    "\n",
    "mydic = {\n",
    "    \"name\":\"anees\",\n",
    "    \"age\":22,\n",
    "    \"country\":\"pakistan\"\n",
    "    }\n",
    "print(mydic,type(mydic))\n",
    "print(mydic[\"name\"])"
   ]
  },
  {
   "cell_type": "code",
   "execution_count": 15,
   "metadata": {},
   "outputs": [
    {
     "name": "stdout",
     "output_type": "stream",
     "text": [
      "{10, 20, 30}\n"
     ]
    }
   ],
   "source": [
    "# set (unorder)\n",
    "myset = {10,20,30,10}\n",
    "print(myset)"
   ]
  },
  {
   "cell_type": "code",
   "execution_count": 7,
   "metadata": {},
   "outputs": [
    {
     "name": "stdout",
     "output_type": "stream",
     "text": [
      "anees Rehman\n",
      "anees Rehman\n"
     ]
    }
   ],
   "source": [
    "myname = \"anees Rehman\"\n",
    "print(myname)\n",
    "print(myname.rstrip())"
   ]
  },
  {
   "cell_type": "markdown",
   "metadata": {},
   "source": [
    "# String problem's solving test"
   ]
  },
  {
   "cell_type": "code",
   "execution_count": null,
   "metadata": {},
   "outputs": [],
   "source": [
    "# problem 1\n",
    "\n",
    "'''Write a Python program to get a string from a given string where all occurrences of its first char have been changed to '$', except the first char itself.\n",
    "Sample String : 'restart'\n",
    "Expected Result : 'resta$t' '''\n",
    "\n",
    "string = 'restart'\n",
    "\n",
    "char = string[0]\n",
    "\n",
    "string = string.replace(char,'$')\n",
    "\n",
    "string = char + string\n",
    "print(string)\n",
    "\n",
    "\n"
   ]
  },
  {
   "cell_type": "code",
   "execution_count": null,
   "metadata": {},
   "outputs": [],
   "source": [
    "\n",
    "#problem 2\n",
    "\n",
    "'''Write a Python program to get a string made of the first 2 and last 2 characters of a given string. If the string length is less than 2, return the empty string instead.\n",
    "Sample String : 'w3resource'\n",
    "Expected Result : 'w3ce'\n",
    "Sample String : 'w3'\n",
    "Expected Result : 'w3w3'\n",
    "Sample String : ' w'\n",
    "Expected Result : Empty String\n",
    "'''\n",
    "\n",
    "string = 'w3resource'\n",
    "\n",
    "if  len(string) >= 2:\n",
    "    # one-way\n",
    "    result = string[:2] + string[len(string)-2:len(string)]\n",
    "    print(result)\n",
    "\n",
    "    #anotherway\n",
    "    result = string[:2] + string[-2::]\n",
    "    print(result)\n",
    "else:\n",
    "    print(\"Empty String\")\n",
    "\n"
   ]
  },
  {
   "cell_type": "code",
   "execution_count": null,
   "metadata": {},
   "outputs": [],
   "source": [
    "# problem 3\n",
    "\n",
    "'''\n",
    "Write a Python program to get a single string from two given strings, separated by a space and swap the first two characters of each string.\n",
    "Sample String : 'abc', 'xyz'\n",
    "Expected Result : 'xyc abz'\n",
    "\n",
    "'''\n",
    "\n",
    "str1 = 'abc'\n",
    "str2 = 'xyz'\n",
    "\n",
    "# swappping last charcters\n",
    "\n",
    "new_str1 = str1[:len(str1)-1] + str2[len(str2)-1:]\n",
    "new_str2 = str2[:len(str2)-1] + str1[len(str1)-1:]\n",
    "\n",
    "print(f\"{new_str2} {new_str1}\")\n"
   ]
  },
  {
   "cell_type": "code",
   "execution_count": null,
   "metadata": {},
   "outputs": [],
   "source": [
    "# problem 4\n",
    "\n",
    "'''\n",
    "Write a Python program to add 'ing' at the end of a given string (length should be at least 3). If the given string already ends with 'ing', add 'ly' instead. If the string length of the given string is less than 3, leave it unchanged.\n",
    "Sample String : 'abc'\n",
    "Expected Result : 'abcing'\n",
    "Sample String : 'string'\n",
    "Expected Result : 'stringly'\n",
    "'''\n",
    "\n",
    "sampleString = 'string'\n",
    "#Expected Result = 'abcing'\n",
    "\n",
    "if sampleString.endswith('ing'):\n",
    "    sampleString += 'ly'\n",
    "else:\n",
    "    sampleString+= 'ing'\n",
    "\n",
    "print(sampleString)"
   ]
  },
  {
   "cell_type": "code",
   "execution_count": null,
   "metadata": {},
   "outputs": [],
   "source": [
    "# problem 5\n",
    "\n",
    "'''\n",
    "Write a Python program to find the first appearance of the substrings 'not' and 'poor' in a given string. \n",
    "If 'not' follows 'poor', replace the whole 'not'...'poor' substring with 'good'. Return the resulting string.\n",
    "\n",
    "Sample String   : 'The lyrics is not that poor!'\n",
    "Expected Result : 'The lyrics is good!'\n",
    "\n",
    "'''\n",
    "\n",
    "sample = 'The lyrics is not that poor!'\n",
    "\n",
    "notindex = sample.find('not')\n",
    "poorindex = sample.rfind('poor')\n",
    "\n",
    "if poorindex > notindex and notindex>0:\n",
    "    sample = sample.replace(sample[notindex:poorindex+4], 'good')\n",
    "    print(\"Resulting String : \", sample)\n",
    "else:\n",
    "    print(\"Not  able to perform replacement\")\n",
    "\n"
   ]
  },
  {
   "cell_type": "markdown",
   "metadata": {},
   "source": [
    "# LIST QUESTIONS"
   ]
  },
  {
   "cell_type": "markdown",
   "metadata": {},
   "source": []
  },
  {
   "cell_type": "code",
   "execution_count": null,
   "metadata": {},
   "outputs": [],
   "source": [
    "\n",
    "# problem 1\n",
    "'''\n",
    "Write a Python program to get a list, sorted in increasing order by the last element in each tuple from a given list of non-empty tuples.\n",
    "Sample List : [(2, 5), (1, 2), (4, 4), (2, 3), (2, 1)]\n",
    "Expected Result : [(2, 1), (1, 2), (2, 3), (4, 4), (2, 5)]\n",
    "\n",
    "'''\n",
    "\n",
    "# 1st way\n",
    "\n",
    "t = [(2, 5), (1, 2), (4, 4), (2, 3), (2, 1)]\n",
    "n = len(t)\n",
    "for i in range(n - 1):\n",
    "  for j in range(i + 1, n):\n",
    "    if t[i][-1] > t[j][-1]:\n",
    "      t[i], t[j] = t[j], t[i]\n",
    "\n",
    "print(t)\n",
    "\n",
    "# another way\n",
    "\n",
    "print(\"\\n\\n\")\n",
    "print(sorted(t, key=lambda x: x[-1]))"
   ]
  },
  {
   "cell_type": "code",
   "execution_count": null,
   "metadata": {},
   "outputs": [],
   "source": [
    "# problem 2\n",
    "'''\n",
    " Write a Python program to remove duplicates from a list.\n",
    "\n",
    "'''\n",
    "\n",
    "numbers = [-12,20,-27,20,45,-12,60]\n",
    "for num in numbers:\n",
    "    if numbers.count(num)>=2:\n",
    "        i = numbers.index(num)\n",
    "        del numbers[i]\n",
    "        \n",
    "print(\"duplicated list : \",numbers)"
   ]
  },
  {
   "cell_type": "code",
   "execution_count": null,
   "metadata": {},
   "outputs": [],
   "source": [
    "# problem 3\n",
    "'''\n",
    "Write a Python program to find the list of words that are longer than n where (n = 3 )from a given list of words.\n",
    "'''\n",
    "\n",
    "str = \"The quick brown fox jumps over the lazy dog\"\n",
    "newlist = []\n",
    "l = str.split()\n",
    "for char in l:\n",
    "    if len(char)>3:\n",
    "        newlist.append(char)\n",
    "\n",
    "print(newlist)"
   ]
  },
  {
   "cell_type": "markdown",
   "metadata": {},
   "source": [
    "# DICTIONARY PROBLEM QUESTION"
   ]
  },
  {
   "cell_type": "code",
   "execution_count": null,
   "metadata": {},
   "outputs": [],
   "source": [
    "# PROBLEM 1\n",
    "'''\n",
    " Write a Python script to sort (ascending and descending) a dictionary by value.\n",
    "'''\n",
    "d = {1: 2, 3: 4, 4: 3, 2: 1, 0: 0}\n",
    "\n",
    "\n",
    "# sort according to value\n",
    "\n",
    "sorted_dict1 = dict(sorted(d.items(), key = lambda x:x[1]))\n",
    "\n",
    "print(sorted_dict1)\n",
    "\n",
    "# sort accroding to keys\n",
    "\n",
    "sorted_dict2 = dict(sorted(d.items(), key = lambda x:x[0]))\n",
    "\n",
    "print(sorted_dict2)"
   ]
  },
  {
   "cell_type": "code",
   "execution_count": null,
   "metadata": {},
   "outputs": [],
   "source": [
    "# PROBLME 2\n",
    "'''\n",
    "Write a Python script to concatenate the following dictionaries to create a new one\n",
    "'''\n",
    "dict1={1:10, 2:20}\n",
    "dict2={3:30, 4:40}\n",
    "dict3={5:50,6:60}\n",
    "\n",
    "newdict = {}\n",
    "\n",
    "for d in (dict1,dict2,dict3):\n",
    "    newdict.update(d)\n",
    "\n",
    "print(newdict)"
   ]
  },
  {
   "cell_type": "code",
   "execution_count": null,
   "metadata": {},
   "outputs": [],
   "source": [
    "# PROBLEM 3\n",
    "\n",
    "'''\n",
    "Write a Python script to check whether a given key already exists in a dictionary.\n",
    "\n",
    "'''\n",
    "d = {1: 10, 2: 20, 3: 30, 4: 40, 5: 50, 6: 60}\n",
    "\n",
    "key = int(input(\"enter key ::\"))\n",
    "\n",
    "if key in d.keys():\n",
    "    print(\"yes it is exist\")\n",
    "else:\n",
    "    print(\"it is not exist\")"
   ]
  }
 ],
 "metadata": {
  "kernelspec": {
   "display_name": "Python 3",
   "language": "python",
   "name": "python3"
  },
  "language_info": {
   "codemirror_mode": {
    "name": "ipython",
    "version": 3
   },
   "file_extension": ".py",
   "mimetype": "text/x-python",
   "name": "python",
   "nbconvert_exporter": "python",
   "pygments_lexer": "ipython3",
   "version": "3.12.1"
  }
 },
 "nbformat": 4,
 "nbformat_minor": 2
}
